{
 "cells": [
  {
   "cell_type": "code",
   "execution_count": null,
   "metadata": {},
   "outputs": [],
   "source": [
    "#the first answer is tricky, from preoder and inverse the order of left and right\n",
    "#uses modified preorder (right subtree first). Then reverse the result.\n",
    "class Solution:\n",
    "    # @param {TreeNode} root\n",
    "    # @return {integer[]}\n",
    "    def postorderTraversal(self, root):\n",
    "        traversal, stack = [], [root]\n",
    "        while stack:\n",
    "            node = stack.pop()\n",
    "            if node:\n",
    "                # pre-order, right first\n",
    "                traversal.append(node.val)\n",
    "                stack.append(node.left)\n",
    "                stack.append(node.right)\n",
    "\n",
    "        # reverse result\n",
    "        return traversal[::-1]"
   ]
  },
  {
   "cell_type": "code",
   "execution_count": null,
   "metadata": {},
   "outputs": [],
   "source": [
    "#The anwser is by postorder using a flag to indicate whether the node has been visited or not.\n",
    "\n",
    "class Solution:\n",
    "    # @param {TreeNode} root\n",
    "    # @return {integer[]}\n",
    "    def postorderTraversal(self, root):\n",
    "        traversal, stack = [], [(root, False)]\n",
    "        while stack:\n",
    "            node, visited = stack.pop()\n",
    "            if node:\n",
    "                if visited:\n",
    "                    # add to result if visited\n",
    "                    traversal.append(node.val)\n",
    "                else:\n",
    "                    # post-order\n",
    "                    stack.append((node, True))\n",
    "                    stack.append((node.right, False))\n",
    "                    stack.append((node.left, False))\n",
    "\n",
    "        return traversal"
   ]
  },
  {
   "cell_type": "code",
   "execution_count": null,
   "metadata": {},
   "outputs": [],
   "source": [
    "#wrong:\n",
    "# Definition for a binary tree node.\n",
    "# class TreeNode:\n",
    "#     def __init__(self, x):\n",
    "#         self.val = x\n",
    "#         self.left = None\n",
    "#         self.right = None\n",
    "\n",
    "class Solution:\n",
    "    def postorderTraversal(self, root: TreeNode) -> List[int]:\n",
    "        stack=[]\n",
    "        res=[]\n",
    "        while stack or root:\n",
    "            if root:\n",
    "                stack.append(root)\n",
    "                root=root.left\n",
    "            else:\n",
    "                temp=stack.pop()#stack是个数组，那么temp就是数字，为什么temp可以有leftandright？\n",
    "                                #因为append到stack的时候是结点，带着原来树的一串\n",
    "                \n",
    "                if temp.right:\n",
    "                    #res.append(temp.right.val)\n",
    "                    root=temp.right\n",
    "                    #res.append(root.val)\n",
    "                else:\n",
    "                    res.append(temp.val)\n",
    "                    root=temp.left\n",
    "        return res"
   ]
  },
  {
   "cell_type": "code",
   "execution_count": null,
   "metadata": {},
   "outputs": [],
   "source": [
    "#wrong:time limit excceeded, why????\n",
    "class Solution:\n",
    "    def postorderTraversal(self, root: TreeNode) -> List[int]:\n",
    "        stack=[]\n",
    "        res=[]\n",
    "        while stack or root:\n",
    "            if root:\n",
    "                stack.append(root)\n",
    "                root=root.left\n",
    "            else:\n",
    "                temp=stack[-1]\n",
    "                \n",
    "                if temp.right:#because when at the very end, original root has right which cause the excceed\n",
    "                    #res.append(temp.right.val)\n",
    "                    root=temp.right\n",
    "                    #res.append(root.val)\n",
    "                else:\n",
    "                    res.append(temp.val)\n",
    "                    temp=stack.pop()\n",
    "                    root=None\n",
    "        return res"
   ]
  }
 ],
 "metadata": {
  "kernelspec": {
   "display_name": "Python 3",
   "language": "python",
   "name": "python3"
  },
  "language_info": {
   "codemirror_mode": {
    "name": "ipython",
    "version": 3
   },
   "file_extension": ".py",
   "mimetype": "text/x-python",
   "name": "python",
   "nbconvert_exporter": "python",
   "pygments_lexer": "ipython3",
   "version": "3.7.3"
  },
  "toc": {
   "base_numbering": 1,
   "nav_menu": {},
   "number_sections": true,
   "sideBar": true,
   "skip_h1_title": false,
   "title_cell": "Table of Contents",
   "title_sidebar": "Contents",
   "toc_cell": false,
   "toc_position": {},
   "toc_section_display": true,
   "toc_window_display": false
  }
 },
 "nbformat": 4,
 "nbformat_minor": 2
}
