{
 "cells": [
  {
   "cell_type": "code",
   "execution_count": null,
   "metadata": {},
   "outputs": [],
   "source": [
    "# Definition for a binary tree node.\n",
    "# class TreeNode:\n",
    "#     def __init__(self, x):\n",
    "#         self.val = x\n",
    "#         self.left = None\n",
    "#         self.right = None\n",
    "\n",
    "class Solution:\n",
    "    def levelOrder(self, root: TreeNode) -> List[List[int]]:\n",
    "        stack=[(root,0)]\n",
    "        res=[]\n",
    "        while stack:\n",
    "            node,level=stack.pop()\n",
    "            if node:\n",
    "                if len(res)<level+1:#为了把一层放在一个数组里面，同for i in size\n",
    "                    res.append([])\n",
    "                res[level].append(node.val)\n",
    "                stack.append((node.right,level+1))\n",
    "                stack.append((node.left,level+1))\n",
    "        return res\n",
    "#runtime:36ms\n",
    "#memory:13.4mb"
   ]
  },
  {
   "cell_type": "code",
   "execution_count": null,
   "metadata": {},
   "outputs": [],
   "source": [
    "#同993\n",
    "from collections import deque\n",
    "class Solution:\n",
    "    def levelOrder(self, root):\n",
    "        if not root: return []\n",
    "        \n",
    "        queue, res = deque([root]), []\n",
    "        \n",
    "        while queue:\n",
    "            cur_level, size = [], len(queue)#key\n",
    "            for i in range(size):\n",
    "                node = queue.popleft()\n",
    "                if node.left:\n",
    "                    queue.append(node.left)\n",
    "                if node.right:\n",
    "                    queue.append(node.right)\n",
    "                    \n",
    "                cur_level.append(node.val)\n",
    "                \n",
    "            res.append(cur_level)#完成一层node之后再放进结果\n",
    "        return res\n",
    "    \n",
    "#runtime:40ms\n",
    "#memory:13.6mb\n",
    "    \n",
    "    \n",
    "    \n",
    "    \n",
    "#Time: O(N) | Space: O(size of return array + size of queue) -> Worst Case O(2N)\n",
    "queue的概念用deque来实现，popleft() 时间复杂为O(1)即可\n",
    "\n",
    "外围的While用来定义BFS的终止条件，所以我们最开始initialize queue的时候可以直接把root放进去\n",
    "在每层的时候，通过一个cur_level记录当前层的node.val，size用来记录queue的在增加子孙node之前大小，因为之后我们会实时更新queue的大小。\n",
    "当每次从queue中pop出来的节点，把它的左右子节点放进Queue以后，记得把节点本身的的value放进cur_level\n",
    "for loop终止后，就可以把记录好的整层的数值，放入我们的return数组里。"
   ]
  },
  {
   "cell_type": "code",
   "execution_count": null,
   "metadata": {},
   "outputs": [],
   "source": [
    "def levelOrder(self, root):\n",
    "    if not root:\n",
    "        return []\n",
    "    ans, level = [], [root]\n",
    "    while level:\n",
    "        ans.append([node.val for node in level])\n",
    "        temp = []\n",
    "        for node in level:\n",
    "            temp.extend([node.left, node.right])\n",
    "        level = [leaf for leaf in temp if leaf]\n",
    "    return ans"
   ]
  }
 ],
 "metadata": {
  "kernelspec": {
   "display_name": "Python 3",
   "language": "python",
   "name": "python3"
  },
  "language_info": {
   "codemirror_mode": {
    "name": "ipython",
    "version": 3
   },
   "file_extension": ".py",
   "mimetype": "text/x-python",
   "name": "python",
   "nbconvert_exporter": "python",
   "pygments_lexer": "ipython3",
   "version": "3.7.3"
  },
  "toc": {
   "base_numbering": 1,
   "nav_menu": {},
   "number_sections": true,
   "sideBar": true,
   "skip_h1_title": false,
   "title_cell": "Table of Contents",
   "title_sidebar": "Contents",
   "toc_cell": false,
   "toc_position": {},
   "toc_section_display": true,
   "toc_window_display": false
  }
 },
 "nbformat": 4,
 "nbformat_minor": 2
}
