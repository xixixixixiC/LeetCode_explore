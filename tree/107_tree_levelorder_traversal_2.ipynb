{
 "cells": [
  {
   "cell_type": "code",
   "execution_count": null,
   "metadata": {},
   "outputs": [],
   "source": [
    "# dfs + stack\n",
    "def levelOrderBottom2(self, root):\n",
    "    stack = [(root, 0)]\n",
    "    res = []\n",
    "    while stack:\n",
    "        node, level = stack.pop()\n",
    "        if node:#why node here???if delete this line, there is an error\n",
    "            if len(res) < level+1:#同一层加到同一个【】里面，不要新建一个\n",
    "                res.insert(0, [])\n",
    "            res[-(level+1)].append(node.val)\n",
    "            stack.append((node.right, level+1))#前后顺序会影响内数组的顺序\n",
    "            stack.append((node.left, level+1))#同上\n",
    "    return res"
   ]
  },
  {
   "cell_type": "code",
   "execution_count": null,
   "metadata": {},
   "outputs": [],
   "source": [
    "# Definition for a binary tree node.\n",
    "# class TreeNode:\n",
    "#     def __init__(self, x):\n",
    "#         self.val = x\n",
    "#         self.left = None\n",
    "#         self.right = None\n",
    "\n",
    "class Solution:\n",
    "    def levelOrderBottom(self, root: TreeNode) -> List[List[int]]:\n",
    "        stack=[(root,1)]\n",
    "        res=[]\n",
    "        while stack:\n",
    "            node,level=stack.pop()\n",
    "            if node:\n",
    "                if len(res)<level:\n",
    "                    res.insert(0,[])\n",
    "                res[-level].append(node.val)\n",
    "                stack.append((node.right,level+1))\n",
    "                stack.append((node.left,level+1))\n",
    "                \n",
    "        return res\n",
    "#runtime:40ms\n",
    "#memory:13.5mb"
   ]
  },
  {
   "cell_type": "code",
   "execution_count": null,
   "metadata": {},
   "outputs": [],
   "source": [
    "class Solution(object):\n",
    "    def levelOrderBottom(self, root):\n",
    "        \"\"\"\n",
    "        :type root: TreeNode\n",
    "        :rtype: List[List[int]]\n",
    "        \"\"\"\n",
    "        answ, L = [], [root]\n",
    "        while L and root:\n",
    "            answ.insert(0,[n.val for n in L])\n",
    "            L = [ C for N in L for C in (N.left,N.right) if C ]\n",
    "        return answ"
   ]
  },
  {
   "cell_type": "code",
   "execution_count": null,
   "metadata": {},
   "outputs": [],
   "source": [
    "#try, but wrong\n",
    "\n",
    "# Definition for a binary tree node.\n",
    "# class TreeNode:\n",
    "#     def __init__(self, x):\n",
    "#         self.val = x\n",
    "#         self.left = None\n",
    "#         self.right = None\n",
    "\n",
    "class Solution:\n",
    "    def levelOrderBottom(self, root: TreeNode) -> List[List[int]]:\n",
    "        stack=[(root,1)]\n",
    "        result=[]\n",
    "        while stack:\n",
    "            node,level=stack.pop()\n",
    "            result.insert(-level,[node.val])\n",
    "            level+=1\n",
    "            if node.left:\n",
    "                stack.append((node.left,level))\n",
    "            if node.right:\n",
    "                stack.append((node.right,level))\n",
    "            while stack:\n",
    "                node,level=stack.pop()\n",
    "                result[-level].insert(0,node.val)\n",
    "                #怎么append一层的每一个node\n",
    "            \n",
    "                if node.left:\n",
    "                    \n",
    "                    stack.append((node.left,level))\n",
    "                if node.right:\n",
    "                    stack.append((node.right,level))\n",
    "        return result"
   ]
  }
 ],
 "metadata": {
  "kernelspec": {
   "display_name": "Python 3",
   "language": "python",
   "name": "python3"
  },
  "language_info": {
   "codemirror_mode": {
    "name": "ipython",
    "version": 3
   },
   "file_extension": ".py",
   "mimetype": "text/x-python",
   "name": "python",
   "nbconvert_exporter": "python",
   "pygments_lexer": "ipython3",
   "version": "3.7.3"
  },
  "toc": {
   "base_numbering": 1,
   "nav_menu": {},
   "number_sections": true,
   "sideBar": true,
   "skip_h1_title": false,
   "title_cell": "Table of Contents",
   "title_sidebar": "Contents",
   "toc_cell": false,
   "toc_position": {},
   "toc_section_display": true,
   "toc_window_display": false
  }
 },
 "nbformat": 4,
 "nbformat_minor": 2
}
