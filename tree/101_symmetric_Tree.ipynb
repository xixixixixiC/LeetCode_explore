{
 "cells": [
  {
   "cell_type": "code",
   "execution_count": null,
   "metadata": {},
   "outputs": [],
   "source": [
    "class Solution:\n",
    "# @param root, a tree node\n",
    "# @return a boolean\n",
    "def isSymmetric(self, root):\n",
    "    if not root:\n",
    "        return True\n",
    "\n",
    "    dq = collections.deque([(root.left,root.right),])#([(root.left,root.right)])\n",
    "    #temp=[(root.left,root.right)]\n",
    "    while dq:\n",
    "        node1, node2 = dq.popleft()#pop()\n",
    "        if not node1 and not node2:\n",
    "            continue\n",
    "        if not node1 or not node2:\n",
    "            return False\n",
    "        if node1.val != node2.val:\n",
    "            return False\n",
    "        # node1.left and node2.right are symmetric nodes in structure\n",
    "        # node1.right and node2.left are symmetric nodes in structure\n",
    "        dq.append((node1.left,node2.right))\n",
    "        dq.append((node1.right,node2.left))\n",
    "    return True"
   ]
  },
  {
   "cell_type": "code",
   "execution_count": 3,
   "metadata": {},
   "outputs": [
    {
     "name": "stdout",
     "output_type": "stream",
     "text": [
      "empty\n"
     ]
    }
   ],
   "source": [
    "l=None\n",
    "r=None\n",
    "if not l or r: \n",
    "    print(\"empty\")"
   ]
  },
  {
   "cell_type": "code",
   "execution_count": null,
   "metadata": {},
   "outputs": [],
   "source": [
    "  def isSymmetric(self, root):\n",
    "        def isSym(L,R):\n",
    "            if not L and not R: return True\n",
    "            if L and R and L.val == R.val: \n",
    "                return isSym(L.left, R.right) and isSym(L.right, R.left)\n",
    "            return False\n",
    "        return isSym(root, root)"
   ]
  },
  {
   "cell_type": "code",
   "execution_count": 4,
   "metadata": {},
   "outputs": [],
   "source": [
    "#recursively\n",
    "# Definition for a  binary tree node\n",
    "# class TreeNode:\n",
    "#     def __init__(self, x):\n",
    "#         self.val = x\n",
    "#         self.left = None\n",
    "#         self.right = None\n",
    "\n",
    "class Solution:\n",
    "    # @param root, a tree node\n",
    "    # @return a boolean\n",
    "    def help(self, p, q):#key\n",
    "        if p == None and q == None: return True#key\n",
    "        if p and q and p.val == q.val:\n",
    "            return self.help(p.right, q.left) and self.help(p.left, q.right)\n",
    "        return False\n",
    "    \n",
    "    def isSymmetric(self, root):\n",
    "        if root:\n",
    "            return self.help(root.left, root.right)\n",
    "        return True\n",
    "#runtime:40ms\n",
    "#memory:13.2mb"
   ]
  },
  {
   "cell_type": "code",
   "execution_count": null,
   "metadata": {},
   "outputs": [],
   "source": []
  }
 ],
 "metadata": {
  "kernelspec": {
   "display_name": "Python 3",
   "language": "python",
   "name": "python3"
  },
  "language_info": {
   "codemirror_mode": {
    "name": "ipython",
    "version": 3
   },
   "file_extension": ".py",
   "mimetype": "text/x-python",
   "name": "python",
   "nbconvert_exporter": "python",
   "pygments_lexer": "ipython3",
   "version": "3.7.3"
  },
  "toc": {
   "base_numbering": 1,
   "nav_menu": {},
   "number_sections": true,
   "sideBar": true,
   "skip_h1_title": false,
   "title_cell": "Table of Contents",
   "title_sidebar": "Contents",
   "toc_cell": false,
   "toc_position": {},
   "toc_section_display": true,
   "toc_window_display": false
  }
 },
 "nbformat": 4,
 "nbformat_minor": 2
}
