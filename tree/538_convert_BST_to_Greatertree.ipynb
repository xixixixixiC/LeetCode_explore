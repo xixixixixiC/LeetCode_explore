{
 "cells": [
  {
   "cell_type": "code",
   "execution_count": null,
   "metadata": {},
   "outputs": [],
   "source": [
    "class Solution(object):\n",
    "    def convertBST(self, root):\n",
    "        \"\"\"\n",
    "        :type root: TreeNode\n",
    "        :rtype: TreeNode\n",
    "        \"\"\"\n",
    "        self.sum=0#全球变量，在def的所有def下面都可以用\n",
    "        \n",
    "        def dfs(root):\n",
    "            if not root:\n",
    "                return  #\n",
    "            dfs(root.right)\n",
    "            root.val=root.val+self.sum\n",
    "            self.sum=root.val\n",
    "            dfs(root.left)\n",
    "            \n",
    "        dfs(root)\n",
    "        return root\n",
    "#runtime:72ms\n",
    "#memory:15.5mb\n",
    "#https://www.youtube.com/watch?v=YoEPWtXmkD4"
   ]
  },
  {
   "cell_type": "code",
   "execution_count": null,
   "metadata": {},
   "outputs": [],
   "source": [
    "class Solution(object):\n",
    "    def convertBST(self, root):\n",
    "        \"\"\"\n",
    "        :type root: TreeNode\n",
    "        :rtype: TreeNode\n",
    "        \"\"\"\n",
    "        origin_root = root\n",
    "        stack = []\n",
    "        current = 0\n",
    "        while root or stack:\n",
    "            if root:\n",
    "                stack.append(root)\n",
    "                root = root.right\n",
    "            else:\n",
    "                node = stack.pop()\n",
    "                current += node.val\n",
    "                node.val = current\n",
    "                root = node.left\n",
    "        return origin_root"
   ]
  },
  {
   "cell_type": "code",
   "execution_count": null,
   "metadata": {},
   "outputs": [],
   "source": [
    "class Solution(object):\n",
    "    def convertBST(self, root):\n",
    "        \"\"\"\n",
    "        :type root: TreeNode\n",
    "        :rtype: TreeNode\n",
    "        \"\"\"\n",
    "        self.cur_sum = 0\n",
    "        self.convertHelper(root)\n",
    "        return root\n",
    "\n",
    "    def convertHelper(self, root):\n",
    "        if not root:\n",
    "            return\n",
    "        self.convertHelper(root.right)\n",
    "        root.val += self.cur_sum\n",
    "        self.cur_sum = root.val\n",
    "        self.convertHelper(root.left)"
   ]
  },
  {
   "cell_type": "code",
   "execution_count": null,
   "metadata": {},
   "outputs": [],
   "source": [
    "def convertBST(self, root):\n",
    "    def reverse(root):\n",
    "        return reverse(root.right) + [root] + reverse(root.left) if root else []\n",
    "    for a, b in zip(reverse(root), reverse(root)[1:]):\n",
    "        b.val += a.val\n",
    "    return root"
   ]
  }
 ],
 "metadata": {
  "kernelspec": {
   "display_name": "Python 3",
   "language": "python",
   "name": "python3"
  },
  "language_info": {
   "codemirror_mode": {
    "name": "ipython",
    "version": 3
   },
   "file_extension": ".py",
   "mimetype": "text/x-python",
   "name": "python",
   "nbconvert_exporter": "python",
   "pygments_lexer": "ipython3",
   "version": "3.7.3"
  },
  "toc": {
   "base_numbering": 1,
   "nav_menu": {},
   "number_sections": true,
   "sideBar": true,
   "skip_h1_title": false,
   "title_cell": "Table of Contents",
   "title_sidebar": "Contents",
   "toc_cell": false,
   "toc_position": {},
   "toc_section_display": true,
   "toc_window_display": false
  }
 },
 "nbformat": 4,
 "nbformat_minor": 2
}
