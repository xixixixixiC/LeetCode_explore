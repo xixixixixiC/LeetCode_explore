{
 "cells": [
  {
   "cell_type": "code",
   "execution_count": null,
   "metadata": {},
   "outputs": [],
   "source": [
    "#\n",
    "class Solution:\n",
    "    def diameterOfBinaryTree(self, root: TreeNode) -> int:\n",
    "        self.result=0\n",
    "        def maxdepth(root):\n",
    "            if not root:\n",
    "                return 0\n",
    "            left=maxdepth(root.left)\n",
    "            right=maxdepth(root.right)\n",
    "            self.result=max(self.result,left+right)#对root而言\n",
    "            return max(left,right)+1 #对root的子结点而言，但是输出的是作为root的结果，所以加1\n",
    "        maxdepth(root)\n",
    "        return self.result\n",
    "#runtime:48ms\n",
    "#memory:15.9mb"
   ]
  },
  {
   "cell_type": "code",
   "execution_count": null,
   "metadata": {},
   "outputs": [],
   "source": [
    "class Solution:\n",
    "    def diameterOfBinaryTree(self, root):\n",
    "        \"\"\"\n",
    "        :type root: TreeNode\n",
    "        :rtype: int\n",
    "        \"\"\"\n",
    "        self.result = -1\n",
    "\n",
    "        def diameter(root):\n",
    "            if root is None:\n",
    "                return 0\n",
    "            left = diameter(root.left)\n",
    "            right = diameter(root.right)\n",
    "            length = left + right + 1\n",
    "            self.result = max(self.result, length)\n",
    "            return max(left, right) + 1\n",
    "\n",
    "        diameter(root)\n",
    "\n",
    "        return 0 if self.result == -1 else self.result - 1"
   ]
  },
  {
   "cell_type": "code",
   "execution_count": null,
   "metadata": {},
   "outputs": [],
   "source": [
    "\n",
    "def height(node):\n",
    "    if node is None:\n",
    "        return 0 ;\n",
    "    return 1 + max(height(node.left), height(node.right))\n",
    "  \n",
    "def diameter(root):\n",
    "    if root is None:\n",
    "        return 0;\n",
    "  \n",
    "    lheight = height(root.left)\n",
    "    rheight = height(root.right)\n",
    "  \n",
    "    ldiameter = diameter(root.left)\n",
    "    rdiameter = diameter(root.right)\n",
    "  \n",
    "    return max(lheight + rheight, max(ldiameter, rdiameter))　"
   ]
  },
  {
   "cell_type": "code",
   "execution_count": null,
   "metadata": {},
   "outputs": [],
   "source": [
    "class Solution:\n",
    "    def diameterOfBinaryTree(self, root):\n",
    "        if not root: return 0\n",
    "        d = {None: -1}\n",
    "        s = [root]\n",
    "        ans = 0\n",
    "        while s:\n",
    "            node = s[-1]\n",
    "            if node.left in d and node.right in d:\n",
    "                s.pop()\n",
    "                l = d[node.left] + 1\n",
    "                r = d[node.right] + 1\n",
    "                ans = max(ans, l + r)\n",
    "                d[node] = max(l, r)\n",
    "            else:\n",
    "                if node.left: s.append(node.left)\n",
    "                if node.right: s.append(node.right)\n",
    "        return ans"
   ]
  }
 ],
 "metadata": {
  "kernelspec": {
   "display_name": "Python 3",
   "language": "python",
   "name": "python3"
  },
  "language_info": {
   "codemirror_mode": {
    "name": "ipython",
    "version": 3
   },
   "file_extension": ".py",
   "mimetype": "text/x-python",
   "name": "python",
   "nbconvert_exporter": "python",
   "pygments_lexer": "ipython3",
   "version": "3.7.3"
  },
  "toc": {
   "base_numbering": 1,
   "nav_menu": {},
   "number_sections": true,
   "sideBar": true,
   "skip_h1_title": false,
   "title_cell": "Table of Contents",
   "title_sidebar": "Contents",
   "toc_cell": false,
   "toc_position": {},
   "toc_section_display": true,
   "toc_window_display": false
  }
 },
 "nbformat": 4,
 "nbformat_minor": 2
}
