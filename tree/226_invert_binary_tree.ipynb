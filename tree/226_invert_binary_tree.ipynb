{
 "cells": [
  {
   "cell_type": "code",
   "execution_count": null,
   "metadata": {},
   "outputs": [],
   "source": [
    "#my answer:\n",
    "class Solution:\n",
    "    def invertTree(self, root: TreeNode) -> TreeNode:\n",
    "        if not root or root.left==root.right==None:\n",
    "            return root\n",
    "        \n",
    "        level=[root]\n",
    "        while level:\n",
    "            node=level.pop()\n",
    "            node.left,node.right=node.right,node.left\n",
    "            if node.left:level.append(node.left)\n",
    "            if node.right:level.append(node.right)\n",
    "        return root"
   ]
  },
  {
   "cell_type": "code",
   "execution_count": null,
   "metadata": {},
   "outputs": [],
   "source": [
    "#iterative\n",
    "def invertTree(self, root):\n",
    "    \"\"\"\n",
    "    :type root: TreeNode\n",
    "    :rtype: TreeNode\n",
    "    \"\"\"\n",
    "    if not root or root.left==root.right==None: \n",
    "        return root\n",
    "    \n",
    "    parent = [root]\n",
    "    while len(parent):\n",
    "        children = []\n",
    "        for node in parent:\n",
    "            node.left, node.right = node.right, node.left\n",
    "            if node.left: children.append(node.left)\n",
    "            if node.right: children.append(node.right)\n",
    "        parent = children\n",
    "    return root\n",
    "#runtime:32ms\n",
    "#memory:13.2mb"
   ]
  },
  {
   "cell_type": "code",
   "execution_count": null,
   "metadata": {},
   "outputs": [],
   "source": [
    "# recursively\n",
    "def invertTree1(self, root):\n",
    "    if root:\n",
    "        root.left, root.right = self.invertTree(root.right), self.invertTree(root.left)\n",
    "        return root\n",
    "        \n",
    "# BFS\n",
    "def invertTree2(self, root):\n",
    "    queue = collections.deque([(root)])\n",
    "    while queue:\n",
    "        node = queue.popleft()\n",
    "        if node:\n",
    "            node.left, node.right = node.right, node.left#node.left=node.right之后，原来的值不就被替换掉了？？？？buhui\n",
    "            queue.append(node.left)\n",
    "            queue.append(node.right)\n",
    "    return root\n",
    "    \n",
    "# DFS\n",
    "def invertTree(self, root):\n",
    "    stack = [root]\n",
    "    while stack:\n",
    "        node = stack.pop()\n",
    "        if node:\n",
    "            node.left, node.right = node.right, node.left\n",
    "            stack.extend([node.right, node.left])\n",
    "    return root"
   ]
  }
 ],
 "metadata": {
  "kernelspec": {
   "display_name": "Python 3",
   "language": "python",
   "name": "python3"
  },
  "language_info": {
   "codemirror_mode": {
    "name": "ipython",
    "version": 3
   },
   "file_extension": ".py",
   "mimetype": "text/x-python",
   "name": "python",
   "nbconvert_exporter": "python",
   "pygments_lexer": "ipython3",
   "version": "3.7.3"
  },
  "toc": {
   "base_numbering": 1,
   "nav_menu": {},
   "number_sections": true,
   "sideBar": true,
   "skip_h1_title": false,
   "title_cell": "Table of Contents",
   "title_sidebar": "Contents",
   "toc_cell": false,
   "toc_position": {},
   "toc_section_display": true,
   "toc_window_display": false
  }
 },
 "nbformat": 4,
 "nbformat_minor": 2
}
