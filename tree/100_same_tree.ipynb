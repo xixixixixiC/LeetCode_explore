{
 "cells": [
  {
   "cell_type": "code",
   "execution_count": null,
   "metadata": {},
   "outputs": [],
   "source": [
    "def isSameTree1(self, p, q):\n",
    "    if p and q:\n",
    "        return p.val == q.val and self.isSameTree(p.left, q.left) and self.isSameTree(p.right, q.right)\n",
    "    else:\n",
    "        return p == q\n",
    "\n",
    "# DFS with stack ⭐️       \n",
    "def isSameTree2(self, p, q):\n",
    "    stack = [(p, q)]\n",
    "    while stack:\n",
    "        node1, node2 = stack.pop()\n",
    "        if not node1 and not node2:\n",
    "            continue\n",
    "        elif None in [node1, node2]:\n",
    "            return False\n",
    "        else:\n",
    "            if node1.val != node2.val:\n",
    "                return False\n",
    "            stack.append((node1.right, node2.right))\n",
    "            stack.append((node1.left, node2.left))\n",
    "    return True\n",
    " \n",
    "# BFS with queue    \n",
    "def isSameTree3(self, p, q):\n",
    "    queue = [(p, q)]\n",
    "    while queue:\n",
    "        node1, node2 = queue.pop(0)\n",
    "        if not node1 and not node2:\n",
    "            continue\n",
    "        elif None in [node1, node2]:\n",
    "            return False\n",
    "        else:\n",
    "            if node1.val != node2.val:\n",
    "                return False\n",
    "            queue.append((node1.left, node2.left))\n",
    "            queue.append((node1.right, node2.right))\n",
    "    return True"
   ]
  },
  {
   "cell_type": "code",
   "execution_count": 23,
   "metadata": {},
   "outputs": [],
   "source": [
    "#Recursive answer:\n",
    "#Definition for a binary tree node.\n",
    "class TreeNode:\n",
    "    def __init__(self, x):\n",
    "        self.val = x\n",
    "        self.left = None\n",
    "        self.right = None\n",
    "\n",
    "class Solution:\n",
    "    def isSameTree(self, p: TreeNode, q: TreeNode) -> bool:\n",
    "        if p and q:\n",
    "            return p.val == q.val and self.isSameTree(p.left, q.left) and self.isSameTree(p.right, q.right)\n",
    "        return p == q\n",
    "\n",
    "#runtime:28ms\n",
    "#memory:13.1mb"
   ]
  },
  {
   "cell_type": "code",
   "execution_count": 13,
   "metadata": {},
   "outputs": [
    {
     "name": "stdout",
     "output_type": "stream",
     "text": [
      "[([1, 2, 3], [1, 2, 3])]\n",
      "[]\n",
      "[1, 2, 3]\n",
      "[1, 2, 3]\n"
     ]
    }
   ],
   "source": [
    "p=[1,2,3]\n",
    "q=[1,2,3]  \n",
    "stack=[(p,q)]\n",
    "print(stack)\n",
    "p,q=stack.pop()\n",
    "print(stack)\n",
    "print(p)\n",
    "print(q)"
   ]
  },
  {
   "cell_type": "code",
   "execution_count": 2,
   "metadata": {},
   "outputs": [
    {
     "name": "stdout",
     "output_type": "stream",
     "text": [
      "1\n"
     ]
    }
   ],
   "source": [
    "a=0\n",
    "b=None\n",
    "if None in [a,b]:\n",
    "    print(1)"
   ]
  },
  {
   "cell_type": "code",
   "execution_count": null,
   "metadata": {},
   "outputs": [],
   "source": []
  }
 ],
 "metadata": {
  "kernelspec": {
   "display_name": "Python 3",
   "language": "python",
   "name": "python3"
  },
  "language_info": {
   "codemirror_mode": {
    "name": "ipython",
    "version": 3
   },
   "file_extension": ".py",
   "mimetype": "text/x-python",
   "name": "python",
   "nbconvert_exporter": "python",
   "pygments_lexer": "ipython3",
   "version": "3.7.3"
  },
  "toc": {
   "base_numbering": 1,
   "nav_menu": {},
   "number_sections": true,
   "sideBar": true,
   "skip_h1_title": false,
   "title_cell": "Table of Contents",
   "title_sidebar": "Contents",
   "toc_cell": false,
   "toc_position": {},
   "toc_section_display": true,
   "toc_window_display": false
  }
 },
 "nbformat": 4,
 "nbformat_minor": 2
}
