{
 "cells": [
  {
   "cell_type": "code",
   "execution_count": null,
   "metadata": {},
   "outputs": [],
   "source": [
    "from collections import deque\n",
    "class Solution(object):\n",
    "    def isCousins(self, root, x, y):\n",
    "        queue = deque([root])\n",
    "        \n",
    "        while queue:\n",
    "            size = len(queue)\n",
    "            temp = {}#key\n",
    "            for i in range(size):\n",
    "                node = queue.popleft()\n",
    "                if node.left:\n",
    "                    queue.append(node.left)\n",
    "                    temp[node.left.val] = node.val\n",
    "                if node.right:\n",
    "                    queue.append(node.right)\n",
    "                    temp[node.right.val] = node.val\n",
    "            \n",
    "            if x in temp and y in temp and temp[x] != temp[y]:\n",
    "                return True\n",
    "        \n",
    "        return False\n",
    "    \n",
    "#BFS层级遍历生疏的小伙伴，参考我对102做的解释: LeetCode Link\n",
    "#这里唯一区别就是要记录下Parent的信息，因为题目说明所有的root.val都是Unique, 那么字典的Key直接设置成root.val即可， value就是他们对应的parent.val"
   ]
  },
  {
   "cell_type": "code",
   "execution_count": null,
   "metadata": {},
   "outputs": [],
   "source": [
    "class Solution(object):\n",
    "    def isCousins(self, root, x, y):\n",
    "        g = {}\n",
    "        def f(root, i=0, parentVal=None):\n",
    "            if root == None:\n",
    "                return\n",
    "            g[root.val] = (i, parentVal)\n",
    "            f(root.left, i+1, parentVal=root.val)\n",
    "            f(root.right, i+1, parentVal=root.val)\n",
    "        f(root)\n",
    "        return g[x][0] == g[y][0] and g[x][1] != g[y][1]"
   ]
  },
  {
   "cell_type": "code",
   "execution_count": null,
   "metadata": {},
   "outputs": [],
   "source": [
    "class Solution(object):\n",
    "\tdef isCousins(self, root, x, y):\n",
    "\t\tnodes = collections.defaultdict(list)\n",
    "\t\tqueue = [(root,0,0)]\n",
    "\t\twhile queue:\n",
    "\t\t\tnode,level,parent = queue.pop(0)\n",
    "\t\t\tnodes[node.val] = [level,parent]\n",
    "\n",
    "\t\t\tif node.left:\n",
    "\t\t\t\tqueue.append((node.left,level+1,node.val))\n",
    "\t\t\tif node.right:\n",
    "\t\t\t\tqueue.append((node.right,level+1,node.val))\n",
    "\n",
    "\t\tif nodes[x][0]==nodes[y][0] and nodes[x][1] != nodes[y][1]:\n",
    "\t\t\treturn True\n",
    "\n",
    "\t\treturn False"
   ]
  },
  {
   "cell_type": "code",
   "execution_count": 10,
   "metadata": {},
   "outputs": [
    {
     "ename": "AttributeError",
     "evalue": "'list' object has no attribute 'left'",
     "output_type": "error",
     "traceback": [
      "\u001b[0;31m---------------------------------------------------------------------------\u001b[0m",
      "\u001b[0;31mAttributeError\u001b[0m                            Traceback (most recent call last)",
      "\u001b[0;32m<ipython-input-10-690400bfbf7b>\u001b[0m in \u001b[0;36m<module>\u001b[0;34m\u001b[0m\n\u001b[1;32m     32\u001b[0m \u001b[0;34m\u001b[0m\u001b[0m\n\u001b[1;32m     33\u001b[0m \u001b[0ms\u001b[0m\u001b[0;34m=\u001b[0m\u001b[0mSolution\u001b[0m\u001b[0;34m(\u001b[0m\u001b[0;34m)\u001b[0m\u001b[0;34m\u001b[0m\u001b[0;34m\u001b[0m\u001b[0m\n\u001b[0;32m---> 34\u001b[0;31m \u001b[0ms\u001b[0m\u001b[0;34m.\u001b[0m\u001b[0misCousins\u001b[0m\u001b[0;34m(\u001b[0m\u001b[0mroot\u001b[0m\u001b[0;34m=\u001b[0m\u001b[0;34m[\u001b[0m\u001b[0;36m1\u001b[0m\u001b[0;34m,\u001b[0m\u001b[0;36m2\u001b[0m\u001b[0;34m,\u001b[0m\u001b[0;36m3\u001b[0m\u001b[0;34m,\u001b[0m\u001b[0;32mNone\u001b[0m\u001b[0;34m,\u001b[0m\u001b[0;36m4\u001b[0m\u001b[0;34m,\u001b[0m\u001b[0;32mNone\u001b[0m\u001b[0;34m,\u001b[0m\u001b[0;36m5\u001b[0m\u001b[0;34m]\u001b[0m\u001b[0;34m,\u001b[0m\u001b[0mx\u001b[0m\u001b[0;34m=\u001b[0m\u001b[0;36m5\u001b[0m\u001b[0;34m,\u001b[0m\u001b[0my\u001b[0m\u001b[0;34m=\u001b[0m\u001b[0;36m4\u001b[0m\u001b[0;34m)\u001b[0m\u001b[0;34m\u001b[0m\u001b[0;34m\u001b[0m\u001b[0m\n\u001b[0m\u001b[1;32m     35\u001b[0m \u001b[0;34m\u001b[0m\u001b[0m\n\u001b[1;32m     36\u001b[0m \u001b[0;34m\u001b[0m\u001b[0m\n",
      "\u001b[0;32m<ipython-input-10-690400bfbf7b>\u001b[0m in \u001b[0;36misCousins\u001b[0;34m(self, root, x, y)\u001b[0m\n\u001b[1;32m     13\u001b[0m \u001b[0;34m\u001b[0m\u001b[0m\n\u001b[1;32m     14\u001b[0m         \u001b[0;31m#pair=deque[(root.left,root),(root.right,root)]\u001b[0m\u001b[0;34m\u001b[0m\u001b[0;34m\u001b[0m\u001b[0;34m\u001b[0m\u001b[0m\n\u001b[0;32m---> 15\u001b[0;31m         \u001b[0mpair\u001b[0m\u001b[0;34m=\u001b[0m\u001b[0mcollections\u001b[0m\u001b[0;34m.\u001b[0m\u001b[0mdeque\u001b[0m\u001b[0;34m[\u001b[0m\u001b[0mroot\u001b[0m\u001b[0;34m.\u001b[0m\u001b[0mleft\u001b[0m\u001b[0;34m,\u001b[0m\u001b[0mroot\u001b[0m\u001b[0;34m.\u001b[0m\u001b[0mright\u001b[0m\u001b[0;34m]\u001b[0m\u001b[0;34m\u001b[0m\u001b[0;34m\u001b[0m\u001b[0m\n\u001b[0m\u001b[1;32m     16\u001b[0m         \u001b[0;32mwhile\u001b[0m \u001b[0mpair\u001b[0m\u001b[0;34m:\u001b[0m\u001b[0;34m\u001b[0m\u001b[0;34m\u001b[0m\u001b[0m\n\u001b[1;32m     17\u001b[0m             \u001b[0mchild\u001b[0m\u001b[0;34m=\u001b[0m\u001b[0;34m[\u001b[0m\u001b[0;34m]\u001b[0m\u001b[0;34m\u001b[0m\u001b[0;34m\u001b[0m\u001b[0m\n",
      "\u001b[0;31mAttributeError\u001b[0m: 'list' object has no attribute 'left'"
     ]
    }
   ],
   "source": [
    "#wrong why??因为无法把组元里面的一个数表示出来，与xy比较，同时应该还有别的问题\n",
    "# Definition for a binary tree node.\n",
    "# class TreeNode:\n",
    "#     def __init__(self, x):\n",
    "#         self.val = x\n",
    "#         self.left = None\n",
    "#         self.right = None\n",
    "\n",
    "class Solution:\n",
    "    def isCousins(self, root: TreeNode, x: int, y: int) -> bool:\n",
    "        if root.val==x or y:\n",
    "            return False\n",
    "        \n",
    "        \n",
    "        pair=deque[(root.left,root),(root.right,root)]\n",
    "        #pair=deque[root.left,root.right]\n",
    "        while pair:\n",
    "            child=[]\n",
    "            size=len(pair)\n",
    "            for i in range(size):\n",
    "                node,parent=pair.popleft()\n",
    "                #node=pair.popleft()\n",
    "                if node.left:\n",
    "                    pair.append((node.left,node))\n",
    "                    #pair.append(node.left)\n",
    "                if node.right:\n",
    "                    pair.append((node.right,node))\n",
    "                    #pair.append(node.right)\n",
    "                child.append([node.val,parent])\n",
    "            \n",
    "            if [i for i in child][0]==x and y:\n",
    "                return child\n",
    "        \n",
    "        return child\n",
    "         \n",
    "        \n",
    "                \n",
    "            "
   ]
  },
  {
   "cell_type": "code",
   "execution_count": null,
   "metadata": {},
   "outputs": [],
   "source": []
  },
  {
   "cell_type": "code",
   "execution_count": null,
   "metadata": {},
   "outputs": [],
   "source": []
  }
 ],
 "metadata": {
  "kernelspec": {
   "display_name": "Python 3",
   "language": "python",
   "name": "python3"
  },
  "language_info": {
   "codemirror_mode": {
    "name": "ipython",
    "version": 3
   },
   "file_extension": ".py",
   "mimetype": "text/x-python",
   "name": "python",
   "nbconvert_exporter": "python",
   "pygments_lexer": "ipython3",
   "version": "3.7.3"
  },
  "toc": {
   "base_numbering": 1,
   "nav_menu": {},
   "number_sections": true,
   "sideBar": true,
   "skip_h1_title": false,
   "title_cell": "Table of Contents",
   "title_sidebar": "Contents",
   "toc_cell": false,
   "toc_position": {},
   "toc_section_display": true,
   "toc_window_display": false
  }
 },
 "nbformat": 4,
 "nbformat_minor": 2
}
