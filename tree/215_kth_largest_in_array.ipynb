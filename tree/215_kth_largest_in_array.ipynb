{
 "cells": [
  {
   "cell_type": "code",
   "execution_count": null,
   "metadata": {},
   "outputs": [],
   "source": [
    "#max heap\n",
    "class Solution(object):\n",
    "    def findKthLargest(self, nums, k):\n",
    "        #if k > len(nums):\n",
    "            #return -1\n",
    "        nums = [-num for num in nums]\n",
    "        heapq.heapify(nums)\n",
    "        #res = float('inf')\n",
    "        for _ in range(k):\n",
    "            res = heapq.heappop(nums)#instead of nums[k-1], failed\n",
    "        return -res\n",
    "#runtime36ms\n",
    "#memory13.7"
   ]
  },
  {
   "cell_type": "code",
   "execution_count": null,
   "metadata": {},
   "outputs": [],
   "source": [
    "#min heap\n",
    "class Solution(object):\n",
    "    def findKthLargest(self, nums, k):\n",
    "        min_heap = [-float('inf')] * k\n",
    "        heapq.heapify(min_heap)\n",
    "        for num in nums:\n",
    "            if num > min_heap[0]:\n",
    "                heapq.heappop(min_heap)\n",
    "                heapq.heappush(min_heap, num)\n",
    "        return min_heap[0]\n",
    "#runtime44ms\n",
    "#memory13.6mb"
   ]
  },
  {
   "cell_type": "code",
   "execution_count": 1,
   "metadata": {},
   "outputs": [
    {
     "name": "stdout",
     "output_type": "stream",
     "text": [
      "inf\n"
     ]
    }
   ],
   "source": [
    " res = float('inf')\n",
    "print(res)"
   ]
  },
  {
   "cell_type": "code",
   "execution_count": null,
   "metadata": {},
   "outputs": [],
   "source": [
    "class Solution(object):\n",
    "    def findKthLargest(self, nums, k):    \n",
    "    return heapq.nlargest(k, nums)[k-1]\n",
    "        #nums=[-1*i for i in nums]\n",
    "        #heapq.heapify(nums)\n",
    "        #return -nums[k-1]"
   ]
  }
 ],
 "metadata": {
  "kernelspec": {
   "display_name": "Python 3",
   "language": "python",
   "name": "python3"
  },
  "language_info": {
   "codemirror_mode": {
    "name": "ipython",
    "version": 3
   },
   "file_extension": ".py",
   "mimetype": "text/x-python",
   "name": "python",
   "nbconvert_exporter": "python",
   "pygments_lexer": "ipython3",
   "version": "3.7.3"
  },
  "toc": {
   "base_numbering": 1,
   "nav_menu": {},
   "number_sections": true,
   "sideBar": true,
   "skip_h1_title": false,
   "title_cell": "Table of Contents",
   "title_sidebar": "Contents",
   "toc_cell": false,
   "toc_position": {},
   "toc_section_display": true,
   "toc_window_display": false
  }
 },
 "nbformat": 4,
 "nbformat_minor": 2
}
