{
 "cells": [
  {
   "cell_type": "code",
   "execution_count": 7,
   "metadata": {},
   "outputs": [
    {
     "name": "stdout",
     "output_type": "stream",
     "text": [
      "False\n",
      "True\n"
     ]
    }
   ],
   "source": [
    "#strs=\"([)]\"\n",
    "strs=\"(]\"\n",
    "i=0\n",
    "while i<=(len(strs)-2):\n",
    "    if strs[i]==strs[i+1]:\n",
    "        continue\n",
    "    else:\n",
    "        print(False)\n",
    "        break\n",
    "    i=i+2\n",
    "print(True)\n",
    "\n"
   ]
  },
  {
   "cell_type": "code",
   "execution_count": 8,
   "metadata": {},
   "outputs": [
    {
     "name": "stdout",
     "output_type": "stream",
     "text": [
      "1\n",
      "True\n"
     ]
    }
   ],
   "source": [
    "dic={\"key1\":1}\n",
    "print(dic['key1'])\n",
    "if \"key1\" in dic:\n",
    "    print(True)"
   ]
  },
  {
   "cell_type": "code",
   "execution_count": 10,
   "metadata": {},
   "outputs": [
    {
     "name": "stdout",
     "output_type": "stream",
     "text": [
      "False\n",
      "True\n"
     ]
    }
   ],
   "source": [
    "s=\"()[]{}\"\n",
    "dic={'(':')', '{':'}', '[' : ']'}\n",
    "\n",
    "i=0\n",
    "while i==0:\n",
    "    if s[i] == s[-1]:\n",
    "        s=s[1:-1]\n",
    "    elif s[i] == s[i+1]:\n",
    "        s=s[i+2:]\n",
    "    else:\n",
    "        print(False)\n",
    "        break\n",
    "    i=0\n",
    "print(True)\n"
   ]
  },
  {
   "cell_type": "code",
   "execution_count": 11,
   "metadata": {},
   "outputs": [
    {
     "name": "stdout",
     "output_type": "stream",
     "text": [
      "False 0\n"
     ]
    }
   ],
   "source": [
    "\n",
    "s=\"()[]{\"\n",
    "dic={'(':')', '{':'}', '[' : ']'}\n",
    "temp=[]\n",
    "\n",
    "if len(s)%2!=0:\n",
    "    print(False,\"0\")\n",
    "else:\n",
    "\n",
    "    for ch in s:\n",
    "        if ch in dic:\n",
    "            temp.append(ch)\n",
    "        elif temp and (ch==dic[temp[-1]]):\n",
    "            temp.pop()\n",
    "        else:\n",
    "            print(False,\"1\")\n",
    "\n",
    "    if temp:\n",
    "        print(False,\"2\")\n",
    "    print(True)\n",
    "\n",
    "\n",
    "\n",
    "\n",
    "\n",
    "\n",
    "\n",
    "\n",
    "\n",
    "\n",
    "\n",
    "\n"
   ]
  }
 ],
 "metadata": {
  "kernelspec": {
   "display_name": "Python 3",
   "language": "python",
   "name": "python3"
  },
  "language_info": {
   "codemirror_mode": {
    "name": "ipython",
    "version": 3
   },
   "file_extension": ".py",
   "mimetype": "text/x-python",
   "name": "python",
   "nbconvert_exporter": "python",
   "pygments_lexer": "ipython3",
   "version": "3.7.3"
  },
  "toc": {
   "base_numbering": 1,
   "nav_menu": {},
   "number_sections": true,
   "sideBar": true,
   "skip_h1_title": false,
   "title_cell": "Table of Contents",
   "title_sidebar": "Contents",
   "toc_cell": false,
   "toc_position": {},
   "toc_section_display": true,
   "toc_window_display": false
  }
 },
 "nbformat": 4,
 "nbformat_minor": 2
}
