{
 "cells": [
  {
   "cell_type": "code",
   "execution_count": 7,
   "metadata": {},
   "outputs": [
    {
     "data": {
      "text/plain": [
       "(3, 4)"
      ]
     },
     "execution_count": 7,
     "metadata": {},
     "output_type": "execute_result"
    }
   ],
   "source": [
    "x=2\n",
    "stack=[(1,2),(3,4)]\n",
    "min(x,stack[-1][1])\n"
   ]
  },
  {
   "cell_type": "code",
   "execution_count": null,
   "metadata": {},
   "outputs": [],
   "source": [
    "#answer\n",
    "class MinStack(object):\n",
    "\n",
    "def __init__(self):\n",
    "    \"\"\"\n",
    "    initialize your data structure here.\n",
    "    \"\"\"\n",
    "    self.stack= []\n",
    "\n",
    "def push(self, x):\n",
    "    \"\"\"\n",
    "    :type x: int\n",
    "    :rtype: nothing\n",
    "    \"\"\"\n",
    "    if not self.stack:\n",
    "        self.stack.append((x,x)) #key point# careful with (())\n",
    "    else:\n",
    "       self.stack.append((x,min(x,self.stack[-1][1])))\n",
    "\n",
    "def pop(self):\n",
    "    \"\"\"\n",
    "    :rtype: nothing\n",
    "    \"\"\"\n",
    "    if self.stack: # careful, without if here will cause int error in next def\n",
    "        self.stack.pop()\n",
    "\n",
    "def top(self):\n",
    "    \"\"\"\n",
    "    :rtype: int\n",
    "    \"\"\"\n",
    "    if self.stack: # careful\n",
    "        return self.stack[-1][0]\n",
    "    else: return None# careful\n",
    "\n",
    "def getMin(self):\n",
    "    \"\"\"\n",
    "    :rtype: int\n",
    "    \"\"\"\n",
    "    if self.stack: # careful\n",
    "        return self.stack[-1][1]\n",
    "    else: return None# careful"
   ]
  },
  {
   "cell_type": "code",
   "execution_count": null,
   "metadata": {},
   "outputs": [],
   "source": [
    "class MinStack:\n",
    "\n",
    "    def __init__(self):\n",
    "        \"\"\"\n",
    "        initialize your data structure here.\n",
    "        \"\"\"\n",
    "        self.stack=[]\n",
    "        \n",
    "\n",
    "    def push(self, x: int) -> None:\n",
    "        if not self.stack:\n",
    "            self.stack.append((x,x)) #key point# careful with (())\n",
    "        else:\n",
    "            self.stack.append((x,min(x,self.stack[-1][1])))\n",
    "\n",
    "\n",
    "    def pop(self) -> None:\n",
    "        if self.stack: # careful\n",
    "            self.stack.pop()\n",
    "        \n",
    "    def top(self) -> int:\n",
    "        return self.stack[-1][0]\n",
    "   \n",
    "    def getMin(self) -> int:\n",
    "    \n",
    "        return self.stack[-1][1]\n",
    "\n",
    "# Your MinStack object will be instantiated and called as such:\n",
    "# obj = MinStack()\n",
    "# obj.push(x)\n",
    "# obj.pop()\n",
    "# param_3 = obj.top()\n",
    "# param_4 = obj.getMin()\n",
    "\n",
    "#runtime:60ms\n",
    "#memory:16.8mb"
   ]
  }
 ],
 "metadata": {
  "kernelspec": {
   "display_name": "Python 3",
   "language": "python",
   "name": "python3"
  },
  "language_info": {
   "codemirror_mode": {
    "name": "ipython",
    "version": 3
   },
   "file_extension": ".py",
   "mimetype": "text/x-python",
   "name": "python",
   "nbconvert_exporter": "python",
   "pygments_lexer": "ipython3",
   "version": "3.7.3"
  },
  "toc": {
   "base_numbering": 1,
   "nav_menu": {},
   "number_sections": true,
   "sideBar": true,
   "skip_h1_title": false,
   "title_cell": "Table of Contents",
   "title_sidebar": "Contents",
   "toc_cell": false,
   "toc_position": {},
   "toc_section_display": true,
   "toc_window_display": false
  }
 },
 "nbformat": 4,
 "nbformat_minor": 2
}
