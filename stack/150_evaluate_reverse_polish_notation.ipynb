{
 "cells": [
  {
   "cell_type": "code",
   "execution_count": 12,
   "metadata": {},
   "outputs": [
    {
     "name": "stdout",
     "output_type": "stream",
     "text": [
      "22\n"
     ]
    }
   ],
   "source": [
    "#my own answer: key point is to find the last two numbers before a operation\n",
    "operators=[\"+\",\"-\",\"*\",\"/\"]\n",
    "#val=None\n",
    "stack=[]\n",
    "#tokens=[\"4\", \"13\", \"5\", \"/\", \"+\"]\n",
    "tokens=[\"10\", \"6\", \"9\", \"3\", \"+\", \"-11\", \"*\", \"/\", \"*\", \"17\", \"+\", \"5\", \"+\"]\n",
    "for i in tokens:\n",
    "    stack.append(i)\n",
    "    if i in operators:\n",
    "        stack.pop()\n",
    "        if i==\"+\":\n",
    "            stack[-2]=float(stack[-2])+float(stack[-1])\n",
    "        elif i==\"-\":\n",
    "            stack[-2]=float(stack[-2])-float(stack[-1])\n",
    "        elif i==\"*\":\n",
    "            stack[-2]=float(stack[-2])*float(stack[-1])\n",
    "        elif i==\"/\":\n",
    "            stack[-2]=int(float(stack[-2])/float(stack[-1]))\n",
    "        stack.pop()\n",
    "print(int(stack[-1]))\n",
    "#runtime:44.ms\n",
    "#memory:13.3mb\n",
    "#the above is the same as below\n",
    "class Solution:\n",
    "    def evalRPN(self, tokens: List[str]) -> int:\n",
    "        operators=[\"+\",\"-\",\"*\",\"/\"]\n",
    "        stack=[]\n",
    "        for i in tokens:\n",
    "            stack.append(i)\n",
    "            if i in operators:\n",
    "                stack.pop()\n",
    "                if i==\"+\":\n",
    "                    stack[-2]=float(stack[-2])+float(stack[-1])\n",
    "                elif i==\"-\":\n",
    "                    stack[-2]=float(stack[-2])-float(stack[-1])\n",
    "                elif i==\"*\":\n",
    "                    stack[-2]=float(stack[-2])*float(stack[-1])\n",
    "                elif i==\"/\":\n",
    "                    stack[-2]=int(float(stack[-2])/float(stack[-1]))\n",
    "                stack.pop()\n",
    "        return int(stack[-1])"
   ]
  },
  {
   "cell_type": "code",
   "execution_count": null,
   "metadata": {},
   "outputs": [],
   "source": [
    "#answer\n",
    "def evalRPN(self, tokens):\n",
    "    stack = []\n",
    "    for t in tokens:\n",
    "        if t not in [\"+\", \"-\", \"*\", \"/\"]:\n",
    "            stack.append(int(t))\n",
    "        else:\n",
    "            r, l = stack.pop(), stack.pop()#good idea the differences from my code\n",
    "            if t == \"+\":\n",
    "                stack.append(l+r)\n",
    "            elif t == \"-\":\n",
    "                stack.append(l-r)\n",
    "            elif t == \"*\":\n",
    "                stack.append(l*r)\n",
    "            else:\n",
    "                # here take care of the case like \"1/-22\",\n",
    "                # in Python 2.x, it returns -1, while in \n",
    "                # Leetcode it should return 0\n",
    "                if l*r < 0 and l % r != 0:\n",
    "                    stack.append(l/r+1)\n",
    "                else:\n",
    "                    stack.append(l/r)\n",
    "    return stack.pop()\n",
    "\n",
    "#runtime:32ms\n",
    "#memory:13.3mb why same memory has different percentage position?"
   ]
  },
  {
   "cell_type": "code",
   "execution_count": 13,
   "metadata": {},
   "outputs": [
    {
     "data": {
      "text/plain": [
       "0"
      ]
     },
     "execution_count": 13,
     "metadata": {},
     "output_type": "execute_result"
    }
   ],
   "source": [
    "int(0.1)"
   ]
  },
  {
   "cell_type": "code",
   "execution_count": 14,
   "metadata": {},
   "outputs": [
    {
     "data": {
      "text/plain": [
       "0"
      ]
     },
     "execution_count": 14,
     "metadata": {},
     "output_type": "execute_result"
    }
   ],
   "source": [
    "int(-0.1)"
   ]
  },
  {
   "cell_type": "code",
   "execution_count": 15,
   "metadata": {},
   "outputs": [
    {
     "data": {
      "text/plain": [
       "0"
      ]
     },
     "execution_count": 15,
     "metadata": {},
     "output_type": "execute_result"
    }
   ],
   "source": [
    "int(0.9)"
   ]
  },
  {
   "cell_type": "code",
   "execution_count": 16,
   "metadata": {},
   "outputs": [
    {
     "data": {
      "text/plain": [
       "-1"
      ]
     },
     "execution_count": 16,
     "metadata": {},
     "output_type": "execute_result"
    }
   ],
   "source": [
    "int(-1.9)"
   ]
  },
  {
   "cell_type": "code",
   "execution_count": 18,
   "metadata": {},
   "outputs": [
    {
     "data": {
      "text/plain": [
       "11"
      ]
     },
     "execution_count": 18,
     "metadata": {},
     "output_type": "execute_result"
    }
   ],
   "source": [
    "eval(\"1\"+\"1\")"
   ]
  },
  {
   "cell_type": "code",
   "execution_count": null,
   "metadata": {},
   "outputs": [],
   "source": []
  }
 ],
 "metadata": {
  "kernelspec": {
   "display_name": "Python 3",
   "language": "python",
   "name": "python3"
  },
  "language_info": {
   "codemirror_mode": {
    "name": "ipython",
    "version": 3
   },
   "file_extension": ".py",
   "mimetype": "text/x-python",
   "name": "python",
   "nbconvert_exporter": "python",
   "pygments_lexer": "ipython3",
   "version": "3.7.3"
  },
  "toc": {
   "base_numbering": 1,
   "nav_menu": {},
   "number_sections": true,
   "sideBar": true,
   "skip_h1_title": false,
   "title_cell": "Table of Contents",
   "title_sidebar": "Contents",
   "toc_cell": false,
   "toc_position": {},
   "toc_section_display": true,
   "toc_window_display": false
  }
 },
 "nbformat": 4,
 "nbformat_minor": 2
}
