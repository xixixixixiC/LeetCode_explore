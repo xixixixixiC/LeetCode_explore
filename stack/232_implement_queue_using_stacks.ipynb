{
 "cells": [
  {
   "cell_type": "code",
   "execution_count": null,
   "metadata": {},
   "outputs": [],
   "source": [
    "#answer:\n",
    "class Queue:\n",
    "    # initialize your data structure here.\n",
    "    def __init__(self):\n",
    "        self.stack1 = []\n",
    "        self.stack2 = []\n",
    "\n",
    "    # @param x, an integer\n",
    "    # @return nothing\n",
    "    def push(self, x:int) -> None:\n",
    "        self.stack1.append(x)\n",
    "\n",
    "    # @return nothing\n",
    "    def pop(self) -> int:\n",
    "        if len(self.stack2)!=0:\n",
    "            return self.stack2.pop()\n",
    "        else:\n",
    "            while len(self.stack1)!=0:#key point\n",
    "                self.stack2.append(self.stack1.pop())\n",
    "            return self.stack2.pop()\n",
    "\n",
    "    # @return an integer\n",
    "    def peek(self) -> int:\n",
    "        if len(self.stack2)!=0:\n",
    "            return self.stack2[-1]\n",
    "        else:\n",
    "            while len(self.stack1)!=0:#key\n",
    "                self.stack2.append(self.stack1.pop())\n",
    "            return self.stack2[-1]\n",
    "\n",
    "    # @return an boolean\n",
    "    def empty(self) -> bool:\n",
    "        if len(self.stack1)==0 and len(self.stack2)==0:#wrong for self.stack==0, coz self.stack never equals to 0\n",
    "            return True\n",
    "        else:\n",
    "            return False\n",
    "#runtime: 32ms\n",
    "#memory:13.3mb"
   ]
  }
 ],
 "metadata": {
  "kernelspec": {
   "display_name": "Python 3",
   "language": "python",
   "name": "python3"
  },
  "language_info": {
   "codemirror_mode": {
    "name": "ipython",
    "version": 3
   },
   "file_extension": ".py",
   "mimetype": "text/x-python",
   "name": "python",
   "nbconvert_exporter": "python",
   "pygments_lexer": "ipython3",
   "version": "3.7.3"
  },
  "toc": {
   "base_numbering": 1,
   "nav_menu": {},
   "number_sections": true,
   "sideBar": true,
   "skip_h1_title": false,
   "title_cell": "Table of Contents",
   "title_sidebar": "Contents",
   "toc_cell": false,
   "toc_position": {},
   "toc_section_display": true,
   "toc_window_display": false
  }
 },
 "nbformat": 4,
 "nbformat_minor": 2
}
