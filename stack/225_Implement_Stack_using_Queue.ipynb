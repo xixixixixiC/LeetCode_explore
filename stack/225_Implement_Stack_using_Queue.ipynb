{
 "cells": [
  {
   "cell_type": "code",
   "execution_count": 95,
   "metadata": {},
   "outputs": [
    {
     "name": "stdout",
     "output_type": "stream",
     "text": [
      "None\n",
      "None\n",
      "2\n",
      "2\n"
     ]
    }
   ],
   "source": [
    "#my own answer after understanding the answer below, \n",
    "#and code it in deque form from left to right order\n",
    "class MyStack:\n",
    "\n",
    "    def __init__(self):\n",
    "        \"\"\"\n",
    "        Initialize your data structure here.\n",
    "        \"\"\"\n",
    "        self.queue=collections.deque()\n",
    "        \n",
    "\n",
    "    def push(self, x: int) -> None:\n",
    "        \"\"\"\n",
    "        Push element x onto stack.\n",
    "        \"\"\"\n",
    "        q=self.queue\n",
    "        q.append(x)\n",
    "        #return q\n",
    "        \n",
    "\n",
    "    def pop(self) -> int:\n",
    "        \"\"\"\n",
    "        Removes the element on top of the stack and returns that element.\n",
    "        \"\"\"\n",
    "        return self.queue.pop()\n",
    "\n",
    "    def top(self) -> int:\n",
    "        \"\"\"\n",
    "        Get the top element.\n",
    "        \"\"\"\n",
    "        return self.queue[-1]#O(n)\n",
    "        \n",
    "\n",
    "    def empty(self) -> bool:\n",
    "        \"\"\"\n",
    "        Returns whether the stack is empty.\n",
    "        \"\"\"\n",
    "        if self.queue:\n",
    "            return False\n",
    "        else:\n",
    "            return True\n",
    "        \n",
    "#runtime36ms\n",
    "#memory13.4mb\n",
    "        \n",
    "s=MyStack()\n",
    "print(s.push(1))\n",
    "print(s.push(2))\n",
    "print(s.top())\n",
    "print(s.pop())"
   ]
  },
  {
   "cell_type": "code",
   "execution_count": 93,
   "metadata": {},
   "outputs": [
    {
     "name": "stdout",
     "output_type": "stream",
     "text": [
      "deque([1])\n",
      "deque([2, 1])\n",
      "deque([3, 2, 1])\n",
      "deque([12, 3, 2, 1])\n",
      "1\n"
     ]
    }
   ],
   "source": [
    "#answer: in deque form from left to right order 为了减小复杂度\n",
    "#push用了O（n),pop/top/empty 用了O（1）\n",
    "class Stack:\n",
    "    def __init__(self):\n",
    "    #def __init__(self, x): #try for initial value x\n",
    "        \n",
    "        self._queue = collections.deque()\n",
    "        #self._queue.append(0)\n",
    "        #no matter attached what value for x out of this class, the initial deque has 0\n",
    "        #basicly, write a if-else condition for (self) case, and (self, x) case\n",
    "        \n",
    "\n",
    "    def push(self, x):\n",
    "        q = self._queue\n",
    "        q.append(x)\n",
    "        #print(q)\n",
    "        for _ in range(len(q) - 1):\n",
    "            q.append(q.popleft())\n",
    "            #print(q)\n",
    "        #return q\n",
    "        \n",
    "    def pop(self):\n",
    "        return self._queue.popleft()\n",
    "\n",
    "    def top(self):\n",
    "        return self._queue[0]\n",
    "    \n",
    "    def empty(self):\n",
    "        return not len(self._queue)\n",
    "#runtime 36ms\n",
    "#memory 13.2mb\n",
    "\n",
    "s=Stack()#if init has x in (), then 必须有100 赋给x\n",
    "print(s.push(1))\n",
    "print(s.push(2))\n",
    "print(s.push(3))\n",
    "print(s.push(12))\n",
    "print(s.top())"
   ]
  },
  {
   "cell_type": "code",
   "execution_count": 19,
   "metadata": {},
   "outputs": [
    {
     "name": "stdout",
     "output_type": "stream",
     "text": [
      "deque(['b', 'c', 'd', 'e', 'f', 'g'])\n"
     ]
    }
   ],
   "source": [
    "#learn for deque\n",
    "import collections\n",
    "d1=collections.deque('abcdefg')\n",
    "#d1=collections.deque()\n",
    "d1.popleft()\n",
    "print(d1)"
   ]
  },
  {
   "cell_type": "code",
   "execution_count": 40,
   "metadata": {},
   "outputs": [
    {
     "name": "stdout",
     "output_type": "stream",
     "text": [
      "deque(['1'])\n",
      "deque(['1', '2'])\n",
      "2\n",
      "deque(['2'])\n"
     ]
    }
   ],
   "source": [
    "d=collections.deque()#通过查阅该函数，可知deque是无初始值的，所以必须先有初始化队列，后赋值\n",
    "print(collections.deque(123))\n",
    "d.extend('1')#extend 只能加str，append可以加intandstr\n",
    "print(d)\n",
    "\n",
    "d.extend('2')\n",
    "print(d)\n",
    "\n",
    "print(d[-1])\n",
    "\n",
    "d.pop()\n",
    "print(d)\n"
   ]
  }
 ],
 "metadata": {
  "kernelspec": {
   "display_name": "Python 3",
   "language": "python",
   "name": "python3"
  },
  "language_info": {
   "codemirror_mode": {
    "name": "ipython",
    "version": 3
   },
   "file_extension": ".py",
   "mimetype": "text/x-python",
   "name": "python",
   "nbconvert_exporter": "python",
   "pygments_lexer": "ipython3",
   "version": "3.7.3"
  },
  "toc": {
   "base_numbering": 1,
   "nav_menu": {},
   "number_sections": true,
   "sideBar": true,
   "skip_h1_title": false,
   "title_cell": "Table of Contents",
   "title_sidebar": "Contents",
   "toc_cell": false,
   "toc_position": {},
   "toc_section_display": true,
   "toc_window_display": false
  }
 },
 "nbformat": 4,
 "nbformat_minor": 2
}
