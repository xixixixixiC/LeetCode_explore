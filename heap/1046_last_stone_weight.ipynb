{
 "cells": [
  {
   "cell_type": "code",
   "execution_count": null,
   "metadata": {},
   "outputs": [],
   "source": [
    "class Solution:\n",
    "    def lastStoneWeight(self, stones: List[int]) -> int:\n",
    "        stones=[-1*i for i in stones]\n",
    "        while stones:\n",
    "            if len(stones)==1:#edge case for initial stones=[1]; there will have index error if execute first and second before return -stones[0]\n",
    "                return -stones[0]\n",
    "            heapq.heapify(stones)\n",
    "            first=heapq.heappop(stones)\n",
    "            second=heapq.heappop(stones)\n",
    "            diff=first-second\n",
    "            if diff!=0:\n",
    "                heapq.heappush(stones,diff)\n",
    "            \n",
    "        if len(stones)==0:\n",
    "            return 0\n",
    "#runtime:28ms\n",
    "#memory:13.1mb"
   ]
  },
  {
   "cell_type": "code",
   "execution_count": null,
   "metadata": {},
   "outputs": [],
   "source": [
    "class Solution(object):\n",
    "    def lastStoneWeight(self, stones):\n",
    "        \"\"\"\n",
    "        :type stones: List[int]\n",
    "        :rtype: int\n",
    "        \"\"\"\n",
    "        stones = [-1*i for i in stones]#翻转之后，从找最大的变成找最小的了 。。。。。。。key\n",
    "        while len(stones)>1:\n",
    "            heapq.heapify(stones)\n",
    "            s1 = heapq.heappop(stones)\n",
    "            s2 = heapq.heappop(stones)\n",
    "            dlt = s1-s2\n",
    "            if dlt != 0:\n",
    "                heapq.heappush(stones,dlt)\n",
    "        return -1*stones[0] if stones else 0"
   ]
  }
 ],
 "metadata": {
  "kernelspec": {
   "display_name": "Python 3",
   "language": "python",
   "name": "python3"
  },
  "language_info": {
   "codemirror_mode": {
    "name": "ipython",
    "version": 3
   },
   "file_extension": ".py",
   "mimetype": "text/x-python",
   "name": "python",
   "nbconvert_exporter": "python",
   "pygments_lexer": "ipython3",
   "version": "3.7.3"
  },
  "toc": {
   "base_numbering": 1,
   "nav_menu": {},
   "number_sections": true,
   "sideBar": true,
   "skip_h1_title": false,
   "title_cell": "Table of Contents",
   "title_sidebar": "Contents",
   "toc_cell": false,
   "toc_position": {},
   "toc_section_display": true,
   "toc_window_display": false
  }
 },
 "nbformat": 4,
 "nbformat_minor": 2
}
