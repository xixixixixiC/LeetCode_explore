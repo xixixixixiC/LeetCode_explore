{
 "cells": [
  {
   "cell_type": "code",
   "execution_count": null,
   "metadata": {},
   "outputs": [],
   "source": [
    "def __init__(self, k, nums):\n",
    "    self.pool = nums\n",
    "    self.k = k\n",
    "    heapq.heapify(self.pool)\n",
    "    while len(self.pool) > k:\n",
    "        heapq.heappop(self.pool)\n",
    "\n",
    "        \n",
    "def add(self, val):\n",
    "    if len(self.pool) < self.k:\n",
    "        heapq.heappush(self.pool, val)\n",
    "    else:\n",
    "        headq.heappushpop(self.pool, val)\n",
    "    #elif val > self.pool[0]:\n",
    "    #    heapq.heapreplace(self.pool, val)\n",
    "    return self.pool[0]\n",
    "#runtime:68ms\n",
    "#memory:16.6mb"
   ]
  },
  {
   "cell_type": "code",
   "execution_count": null,
   "metadata": {},
   "outputs": [],
   "source": [
    "class KthLargest(object):\n",
    "\n",
    "    \n",
    "    def __init__(self, k, nums):#O(nlogk)\n",
    "        self.pool = nums\n",
    "        self.k = k\n",
    "        heapq.heapify(self.pool)\n",
    "        while len(self.pool) > k:\n",
    "            heapq.heappop(self.pool)#make sure only k numbers in heap, 所以留下来的第一个是第k个大的元素\n",
    "\n",
    "            \n",
    "    def add(self, val):#O(logk)\n",
    "        if len(self.pool) < self.k:\n",
    "            heapq.heappush(self.pool, val)\n",
    "        elif val > self.pool[0]:#len(self.pool)>=self.k,也就是数组self.pool是k个;但是arry长度不限\n",
    "            heapq.heapreplace(self.pool, val)\n",
    "        #else  val <=self.pool[0]的情况下，最小的一定是pool[0]\n",
    "        return self.pool[0]"
   ]
  }
 ],
 "metadata": {
  "kernelspec": {
   "display_name": "Python 3",
   "language": "python",
   "name": "python3"
  },
  "language_info": {
   "codemirror_mode": {
    "name": "ipython",
    "version": 3
   },
   "file_extension": ".py",
   "mimetype": "text/x-python",
   "name": "python",
   "nbconvert_exporter": "python",
   "pygments_lexer": "ipython3",
   "version": "3.7.3"
  },
  "toc": {
   "base_numbering": 1,
   "nav_menu": {},
   "number_sections": true,
   "sideBar": true,
   "skip_h1_title": false,
   "title_cell": "Table of Contents",
   "title_sidebar": "Contents",
   "toc_cell": false,
   "toc_position": {},
   "toc_section_display": true,
   "toc_window_display": false
  }
 },
 "nbformat": 4,
 "nbformat_minor": 2
}
