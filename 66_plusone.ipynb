{
 "cells": [
  {
   "cell_type": "code",
   "execution_count": 1,
   "metadata": {},
   "outputs": [
    {
     "name": "stdout",
     "output_type": "stream",
     "text": [
      "[1, 2, 9]\n"
     ]
    }
   ],
   "source": [
    "digits=[1,2,8]\n",
    "x=len(digits)-1\n",
    "carry=1\n",
    "while x>=0:\n",
    "    new=digits[x]+carry\n",
    "    carry,remain=divmod(new,10)\n",
    "    digits[x]=remain\n",
    "    x-=1\n",
    "if carry==1:\n",
    "    digits=[carray]+digits\n",
    "    #digits[0:0]=[carry]\n",
    "print(digits)\n",
    "#runtime:36ms\n",
    "#memory:13mb"
   ]
  },
  {
   "cell_type": "code",
   "execution_count": 3,
   "metadata": {},
   "outputs": [
    {
     "name": "stdout",
     "output_type": "stream",
     "text": [
      "[1, 3, 9]\n",
      "[1, 0, 3, 9]\n"
     ]
    }
   ],
   "source": [
    "digits=[1,2,9]\n",
    "digits[1]=3\n",
    "print(digits)\n",
    "digits[1:1]=[0]\n",
    "print(digits)"
   ]
  },
  {
   "cell_type": "code",
   "execution_count": 15,
   "metadata": {},
   "outputs": [
    {
     "name": "stdout",
     "output_type": "stream",
     "text": [
      "1\n",
      "2\n",
      "3\n"
     ]
    }
   ],
   "source": [
    "#answer\n",
    "class Solution:\n",
    "    def plusOne(self, digits: List[int]) -> List[int]:\n",
    "        length = len(digits) - 1\n",
    "        res = list(digits)\n",
    "        while res[length] == 9:\n",
    "            res[length] = 0\n",
    "            length -= 1\n",
    "        if(length < 0):\n",
    "            res = [1] + res\n",
    "        else:\n",
    "            res[length] += 1\n",
    "        return res"
   ]
  },
  {
   "cell_type": "code",
   "execution_count": null,
   "metadata": {},
   "outputs": [],
   "source": []
  }
 ],
 "metadata": {
  "kernelspec": {
   "display_name": "Python 3",
   "language": "python",
   "name": "python3"
  },
  "language_info": {
   "codemirror_mode": {
    "name": "ipython",
    "version": 3
   },
   "file_extension": ".py",
   "mimetype": "text/x-python",
   "name": "python",
   "nbconvert_exporter": "python",
   "pygments_lexer": "ipython3",
   "version": "3.7.3"
  },
  "toc": {
   "base_numbering": 1,
   "nav_menu": {},
   "number_sections": true,
   "sideBar": true,
   "skip_h1_title": false,
   "title_cell": "Table of Contents",
   "title_sidebar": "Contents",
   "toc_cell": false,
   "toc_position": {},
   "toc_section_display": true,
   "toc_window_display": false
  }
 },
 "nbformat": 4,
 "nbformat_minor": 2
}
